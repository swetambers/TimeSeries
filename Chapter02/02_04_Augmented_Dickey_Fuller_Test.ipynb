{
 "cells": [
  {
   "cell_type": "markdown",
   "metadata": {},
   "source": [
    "## <b> Augmented Dickey-Fuller test (ADF)\n",
    "\n",
    "The statistical tests for objectively determining whether differencing is required to stationarize a time series are known as unit root tests. There are several such tests of which we discuss the ADF test is one of the unit root tests, that is most commonly used for verifying non-stationarity in the original time series.\n",
    "\n",
    "According to the ADF test, in the of the original series can be expressed as a linear regression model of the previous time index and first-order differences presence of autocorrelation, the first-order differences xt up to a lag of m times indices.\n",
    "\n",
    "In other words, the null hypothesis is presence of unit root or non-stationarity, whereas the alternate hypothesis suggests stationarity of the data."
   ]
  },
  {
   "cell_type": "code",
   "execution_count": 1,
   "metadata": {},
   "outputs": [
    {
     "name": "stderr",
     "output_type": "stream",
     "text": [
      "/usr/local/lib/python3.7/site-packages/statsmodels/compat/pandas.py:49: FutureWarning: The Panel class is removed from pandas. Accessing it from the top-level namespace will also be removed in the next version\n",
      "  data_klasses = (pandas.Series, pandas.DataFrame, pandas.Panel)\n"
     ]
    }
   ],
   "source": [
    "import os\n",
    "import pandas as pd\n",
    "from statsmodels.tsa import stattools\n",
    "%matplotlib inline\n",
    "from matplotlib import pyplot as plt"
   ]
  },
  {
   "cell_type": "code",
   "execution_count": 2,
   "metadata": {},
   "outputs": [],
   "source": [
    "# Read the data from into a pandas.DataFrame\n",
    "air_miles = pd.read_csv('../Data Files/us-airlines-monthly-aircraft-miles-flown.csv', index_col = ['Month'])"
   ]
  },
  {
   "cell_type": "code",
   "execution_count": 3,
   "metadata": {},
   "outputs": [
    {
     "name": "stdout",
     "output_type": "stream",
     "text": [
      "Shape of the DataFrame: (97, 1)\n"
     ]
    }
   ],
   "source": [
    "# Let's find out the shape of the DataFrame\n",
    "print('Shape of the DataFrame:', air_miles.shape)"
   ]
  },
  {
   "cell_type": "code",
   "execution_count": 4,
   "metadata": {},
   "outputs": [
    {
     "data": {
      "text/html": [
       "<div>\n",
       "<style scoped>\n",
       "    .dataframe tbody tr th:only-of-type {\n",
       "        vertical-align: middle;\n",
       "    }\n",
       "\n",
       "    .dataframe tbody tr th {\n",
       "        vertical-align: top;\n",
       "    }\n",
       "\n",
       "    .dataframe thead th {\n",
       "        text-align: right;\n",
       "    }\n",
       "</style>\n",
       "<table border=\"1\" class=\"dataframe\">\n",
       "  <thead>\n",
       "    <tr style=\"text-align: right;\">\n",
       "      <th></th>\n",
       "      <th>U.S. airlines: monthly aircraft miles flown (Millions) 1963 -1970</th>\n",
       "    </tr>\n",
       "    <tr>\n",
       "      <th>Month</th>\n",
       "      <th></th>\n",
       "    </tr>\n",
       "  </thead>\n",
       "  <tbody>\n",
       "    <tr>\n",
       "      <th>1963-01</th>\n",
       "      <td>6827.0</td>\n",
       "    </tr>\n",
       "    <tr>\n",
       "      <th>1963-02</th>\n",
       "      <td>6178.0</td>\n",
       "    </tr>\n",
       "    <tr>\n",
       "      <th>1963-03</th>\n",
       "      <td>7084.0</td>\n",
       "    </tr>\n",
       "    <tr>\n",
       "      <th>1963-04</th>\n",
       "      <td>8162.0</td>\n",
       "    </tr>\n",
       "    <tr>\n",
       "      <th>1963-05</th>\n",
       "      <td>8462.0</td>\n",
       "    </tr>\n",
       "  </tbody>\n",
       "</table>\n",
       "</div>"
      ],
      "text/plain": [
       "         U.S. airlines: monthly aircraft miles flown (Millions) 1963 -1970\n",
       "Month                                                                     \n",
       "1963-01                                             6827.0                \n",
       "1963-02                                             6178.0                \n",
       "1963-03                                             7084.0                \n",
       "1963-04                                             8162.0                \n",
       "1963-05                                             8462.0                "
      ]
     },
     "execution_count": 4,
     "metadata": {},
     "output_type": "execute_result"
    }
   ],
   "source": [
    "# Let's see first 10 rows of it\n",
    "air_miles.head(5)"
   ]
  },
  {
   "cell_type": "code",
   "execution_count": 5,
   "metadata": {},
   "outputs": [],
   "source": [
    "# Let's rename the 2nd column\n",
    "air_miles.rename(columns={\n",
    "    'U.S. airlines: monthly aircraft miles flown (Millions) 1963 -1970': 'Air miles flown'\n",
    "},inplace=True)"
   ]
  },
  {
   "cell_type": "code",
   "execution_count": 6,
   "metadata": {},
   "outputs": [
    {
     "name": "stdout",
     "output_type": "stream",
     "text": [
      "Number of missing values found: 1\n"
     ]
    }
   ],
   "source": [
    "# Check for missing values and remove the row\n",
    "missing = pd.isnull(air_miles['Air miles flown'])\n",
    "print('Number of missing values found:', missing.sum())\n",
    "air_miles = air_miles.loc[~missing, :]"
   ]
  },
  {
   "cell_type": "code",
   "execution_count": 7,
   "metadata": {},
   "outputs": [
    {
     "data": {
      "text/plain": [
       "Text(0.5,1,'Monthly air miles flown during 1963 - 1970')"
      ]
     },
     "execution_count": 7,
     "metadata": {},
     "output_type": "execute_result"
    },
    {
     "data": {
      "image/png": "[encoded data removed]",
      "text/plain": [
       "<Figure size 396x396 with 1 Axes>"
      ]
     },
     "metadata": {
      "needs_background": "light"
     },
     "output_type": "display_data"
    }
   ],
   "source": [
    "#Plot the time series of air miles flown\n",
    "fig = plt.figure(figsize=(5.5, 5.5))\n",
    "ax = fig.add_subplot(1,1,1)\n",
    "air_miles['Air miles flown'].plot(ax=ax)\n",
    "ax.set_title('Monthly air miles flown during 1963 - 1970')"
   ]
  },
  {
   "cell_type": "code",
   "execution_count": 8,
   "metadata": {},
   "outputs": [],
   "source": [
    "adf_result = stattools.adfuller(air_miles['Air miles flown'], autolag='AIC')"
   ]
  },
  {
   "cell_type": "code",
   "execution_count": 9,
   "metadata": {},
   "outputs": [
    {
     "data": {
      "text/plain": [
       "(1.0229489778119756,\n",
       " 0.9945022811234028,\n",
       " 11,\n",
       " 84,\n",
       " {'1%': -3.510711795769895,\n",
       "  '5%': -2.8966159448223734,\n",
       "  '10%': -2.5854823866213152},\n",
       " 1356.2366247658094)"
      ]
     },
     "execution_count": 9,
     "metadata": {},
     "output_type": "execute_result"
    }
   ],
   "source": [
    "adf_result"
   ]
  },
  {
   "cell_type": "code",
   "execution_count": 10,
   "metadata": {},
   "outputs": [
    {
     "name": "stdout",
     "output_type": "stream",
     "text": [
      "p-val of the ADF test in air miles flown: 0.9945022811234028\n"
     ]
    }
   ],
   "source": [
    "# alpha is the probability of rejecting the null hypothesis, if it is true.\n",
    "# p-val > alpha Null hypothesis is not rejected means non-stationary series\n",
    "# p-val < alpha Null hypothesis is rejected means stationary series\n",
    "\n",
    "# The null hypothesis is NOT rejected as the p-value is greater than 0.05.\n",
    "\n",
    "print('p-val of the ADF test in air miles flown:', adf_result[1])"
   ]
  },
  {
   "cell_type": "markdown",
   "metadata": {},
   "source": [
    "#### <b> Summary table:\n",
    "\n",
    "<table>\n",
    "<tr>\n",
    "    <td> \n",
    "        <b>Tests</b>\n",
    "    </td>\n",
    "    <td> \n",
    "        <b>Augmented Dickey-Fuller (ADF)</b>\n",
    "    </td>\n",
    "    <td> \n",
    "        <b>Ljung-Box</b>\n",
    "    </td>\n",
    "    <td> \n",
    "        <b>p-values</b>\n",
    "    </td>\n",
    "</tr>\n",
    "\n",
    "<tr>\n",
    "    <td> \n",
    "    Null Hypothesis\n",
    "    </td>\n",
    "    <td> \n",
    "    Non Stationary\n",
    "    </td>\n",
    "    <td> \n",
    "    Stationary\n",
    "    </td>\n",
    "    <td> \n",
    "    Reject < alpha or Accept > alpha\n",
    "    </td>\n",
    "</tr>\n",
    "<tr>\n",
    "    <td> \n",
    "    Alternative Hypothesis\n",
    "    </td>\n",
    "    <td> \n",
    "    Stationary\n",
    "    </td>\n",
    "    <td> \n",
    "    Non Stationary\n",
    "    </td>\n",
    "    <td> \n",
    "    Reject > alpha or Accept < alpha\n",
    "    </td>\n",
    "</tr>\n",
    "</table>"
   ]
  }
 ],
 "metadata": {
  "anaconda-cloud": {},
  "kernelspec": {
   "display_name": "Python 3",
   "language": "python",
   "name": "python3"
  },
  "language_info": {
   "codemirror_mode": {
    "name": "ipython",
    "version": 3
   },
   "file_extension": ".py",
   "mimetype": "text/x-python",
   "name": "python",
   "nbconvert_exporter": "python",
   "pygments_lexer": "ipython3",
   "version": "3.7.4"
  }
 },
 "nbformat": 4,
 "nbformat_minor": 1
}
