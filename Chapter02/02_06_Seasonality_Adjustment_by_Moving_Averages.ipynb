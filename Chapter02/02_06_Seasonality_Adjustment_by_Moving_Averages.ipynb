{
 "cells": [
  {
   "cell_type": "code",
   "execution_count": null,
   "metadata": {},
   "outputs": [],
   "source": [
    "import os\n",
    "import pandas as pd\n",
    "import numpy as np\n",
    "%matplotlib inline\n",
    "from matplotlib import pyplot as plt\n",
    "from pandas.plotting import autocorrelation_plot\n",
    "from statsmodels.tsa import stattools"
   ]
  },
  {
   "cell_type": "code",
   "execution_count": null,
   "metadata": {},
   "outputs": [],
   "source": [
    "# Read dataset into a pandas.DataFrame\n",
    "beer_df = pd.read_csv(\n",
    "    '../Data files/quarterly-beer-production-in-aus-March 1956-June 1994.csv', index_col=['Quarter']\n",
    ")"
   ]
  },
  {
   "cell_type": "code",
   "execution_count": null,
   "metadata": {},
   "outputs": [],
   "source": [
    "# Display shape of the dataset\n",
    "print('Shape of the dataframe:', beer_df.shape)"
   ]
  },
  {
   "cell_type": "code",
   "execution_count": null,
   "metadata": {},
   "outputs": [],
   "source": [
    "# Show top 5 rows\n",
    "beer_df.head(5)"
   ]
  },
  {
   "cell_type": "code",
   "execution_count": null,
   "metadata": {},
   "outputs": [],
   "source": [
    "# Rename the 2nd column\n",
    "beer_df.rename(columns={\n",
    "    'Quarterly beer production in Australia: megalitres. March 1956 ? June 1994': 'Beer_Prod'\n",
    "}, inplace=True)"
   ]
  },
  {
   "cell_type": "code",
   "execution_count": null,
   "metadata": {},
   "outputs": [],
   "source": [
    "# Remove missing values\n",
    "missing = (pd.isnull(beer_df.index)) | (pd.isnull(beer_df['Beer_Prod']))\n",
    "print('Number of rows with at least one missing values:', missing.sum())\n",
    "beer_df = beer_df.loc[~missing, :]\n",
    "print('Shape after removing missing values:', beer_df.shape)"
   ]
  },
  {
   "cell_type": "code",
   "execution_count": null,
   "metadata": {},
   "outputs": [],
   "source": [
    "# In order to remove seasonal patterns let us calculate 2X4 quarter moving average\n",
    "MA4 = beer_df['Beer_Prod'].rolling(window=4).mean()\n",
    "TwoXMA4 = MA4.rolling(window=2).mean()\n",
    "TwoXMA4 = TwoXMA4.loc[~pd.isnull(TwoXMA4)]"
   ]
  },
  {
   "cell_type": "code",
   "execution_count": null,
   "metadata": {},
   "outputs": [],
   "source": [
    "# Let's plot the original time series and the seasonal moving averages\n",
    "fig = plt.figure(figsize=(5.5, 5.5))\n",
    "ax = fig.add_subplot(1,1,1)\n",
    "beer_df['Beer_Prod'].plot(ax=ax, color='b', linestyle='-')\n",
    "TwoXMA4.plot(ax=ax, color='r', linestyle='-')\n",
    "plt.xticks(rotation=60)\n",
    "ax.set_title('Quaterly Beer Production between in Australia and 2X4 quarter MA')"
   ]
  },
  {
   "cell_type": "markdown",
   "metadata": {},
   "source": [
    "### <b> Why?\n",
    "The original time series on the quarterly beer productions has trend as well as seasonality and therefore is not stationary. Let us see if we can stationarize the time series by first removing the trend component and then taking seasonal differences."
   ]
  },
  {
   "cell_type": "code",
   "execution_count": null,
   "metadata": {},
   "outputs": [],
   "source": [
    "# Let's compute the residuals after removing the trend\n",
    "residuals = beer_df['Beer_Prod'] - TwoXMA4\n",
    "residuals = residuals.loc[~pd.isnull(residuals)]"
   ]
  },
  {
   "cell_type": "code",
   "execution_count": null,
   "metadata": {},
   "outputs": [],
   "source": [
    "# Let's plot the residuals\n",
    "fig = plt.figure(figsize=(5.5, 5.5))\n",
    "ax = fig.add_subplot(1,1,1)\n",
    "residuals.plot(ax=ax, color='b', linestyle='-')\n",
    "plt.xticks(rotation=60)\n",
    "ax.set_title('Residuals in Quaterly Beer Production time series')"
   ]
  },
  {
   "cell_type": "code",
   "execution_count": null,
   "metadata": {},
   "outputs": [],
   "source": [
    "# Let's plot the autocorrelation function of the residuals\n",
    "fig = plt.figure(figsize=(5.5, 5.5))\n",
    "ax = fig.add_subplot(1,1,1)\n",
    "autocorrelation_plot(residuals, ax=ax)\n",
    "ax.set_title('ACF of Residuals in Quaterly Beer Production time series')\n",
    "autocorrelation_plot(residuals)"
   ]
  },
  {
   "cell_type": "code",
   "execution_count": null,
   "metadata": {},
   "outputs": [],
   "source": [
    "# Perform Ljung-Box test on residuals to get the p-values\n",
    "# We will use lags of upto 20\n",
    "\n",
    "# acceptance of null hypothesis confirms stationarity of the time series.\n",
    "\n",
    "# p-val > alpha Null hypothesis is not rejected means stationary series\n",
    "# p-val < alpha Null hypothesis is rejected means non-stationary series\n",
    "_, _, _, pval_residuals = stattools.acf(\n",
    "    residuals, unbiased=True, nlags=20, qstat=True, alpha=0.05\n",
    ")\n",
    "print('Null hypothesis is rejected for lags:', np.where(pval_residuals<=0.05))"
   ]
  },
  {
   "cell_type": "code",
   "execution_count": null,
   "metadata": {},
   "outputs": [],
   "source": [
    "# Perfom ADF test and check stationary for residual\n",
    "adf_result = stattools.adfuller(residuals, autolag='AIC')\n",
    "# alpha is the probability of rejecting the null hypothesis, if it is true.\n",
    "# p-val > alpha Null hypothesis is not rejected means non-stationary series\n",
    "# p-val < alpha Null hypothesis is rejected means stationary series\n",
    "\n",
    "# The null hypothesis is NOT rejected as the p-value is greater than 0.05.\n",
    "\n",
    "print('p-val of the residuals:', adf_result[1])"
   ]
  },
  {
   "cell_type": "markdown",
   "metadata": {},
   "source": [
    "#### <b> Summary table:\n",
    "\n",
    "<table>\n",
    "<tr>\n",
    "    <td> \n",
    "        <b>Tests</b>\n",
    "    </td>\n",
    "    <td> \n",
    "        <b>Augmented Dickey-Fuller (ADF)</b>\n",
    "    </td>\n",
    "    <td> \n",
    "        <b>Ljung-Box</b>\n",
    "    </td>\n",
    "    <td> \n",
    "        <b>p-values</b>\n",
    "    </td>\n",
    "</tr>\n",
    "\n",
    "<tr>\n",
    "    <td> \n",
    "    Null Hypothesis\n",
    "    </td>\n",
    "    <td> \n",
    "    Non Stationary\n",
    "    </td>\n",
    "    <td> \n",
    "    Stationary\n",
    "    </td>\n",
    "    <td> \n",
    "    Reject < alpha or Accept > alpha\n",
    "    </td>\n",
    "</tr>\n",
    "<tr>\n",
    "    <td> \n",
    "    Alternative Hypothesis\n",
    "    </td>\n",
    "    <td> \n",
    "    Stationary\n",
    "    </td>\n",
    "    <td> \n",
    "    Non Stationary\n",
    "    </td>\n",
    "    <td> \n",
    "    Reject > alpha or Accept < alpha\n",
    "    </td>\n",
    "</tr>\n",
    "</table>"
   ]
  },
  {
   "cell_type": "markdown",
   "metadata": {},
   "source": [
    "The residuals have a strong autocorrelation with the ACF jumping outside the confidence intervals for several values of lags. So we would need to take seasonal difference on the residuals. The period of seasonality can be determined based on the fact that the original data is obtained from all quarters of the years and shows seasonality of the quarter. This means that the residuals in quarter one of a year is close in magnitude to the residuals from quarter one of the preceding and succeeding years. This observation makes us take differences over periods of four time units as follows:"
   ]
  },
  {
   "cell_type": "code",
   "execution_count": null,
   "metadata": {},
   "outputs": [],
   "source": [
    "# Let's compute quarterly differecing to remove quaterly seasonality\n",
    "residuals_qtr_diff = residuals.diff(4)"
   ]
  },
  {
   "cell_type": "code",
   "execution_count": null,
   "metadata": {},
   "outputs": [],
   "source": [
    "# Remove null values\n",
    "residuals_qtr_diff = residuals_qtr_diff.loc[~pd.isnull(residuals_qtr_diff)]"
   ]
  },
  {
   "cell_type": "code",
   "execution_count": null,
   "metadata": {},
   "outputs": [],
   "source": [
    "# Let's plot the autocorrelation function of the residuals\n",
    "fig = plt.figure(figsize=(5.5, 5.5))\n",
    "ax = fig.add_subplot(1,1,1)\n",
    "autocorrelation_plot(residuals_qtr_diff, ax=ax)\n",
    "ax.set_title('ACF of Quaterly Differenced Residuals')"
   ]
  },
  {
   "cell_type": "code",
   "execution_count": null,
   "metadata": {},
   "outputs": [],
   "source": [
    "# Perform Ljung-Box test on residuals_qtr_diff to get the p-values\n",
    "# We will use lags of upto 20\n",
    "\n",
    "# acceptance of null hypothesis confirms stationarity of the time series.\n",
    "\n",
    "# p-val > alpha Null hypothesis is not rejected means stationary series\n",
    "# p-val < alpha Null hypothesis is rejected means non-stationary series\n",
    "_, _, _, pval_residuals = stattools.acf(\n",
    "    residuals_qtr_diff, unbiased=True, nlags=1, qstat=True, alpha=0.05\n",
    ")\n",
    "print('Null hypothesis is rejected for lags:', np.where(pval_residuals<=0.05))"
   ]
  },
  {
   "cell_type": "code",
   "execution_count": null,
   "metadata": {},
   "outputs": [],
   "source": [
    "# Perfom ADF test and check stationary for residuals_qtr_diff\n",
    "adf_result = stattools.adfuller(residuals_qtr_diff, autolag='AIC')\n",
    "# alpha is the probability of rejecting the null hypothesis, if it is true.\n",
    "# p-val > alpha Null hypothesis is not rejected means non-stationary series\n",
    "# p-val < alpha Null hypothesis is rejected means stationary series\n",
    "\n",
    "# The null hypothesis is NOT rejected as the p-value is greater than 0.05.\n",
    "\n",
    "print('p-val of the residuals_qtr_diff:', adf_result[1])"
   ]
  }
 ],
 "metadata": {
  "anaconda-cloud": {},
  "kernelspec": {
   "display_name": "Python 3",
   "language": "python",
   "name": "python3"
  },
  "language_info": {
   "codemirror_mode": {
    "name": "ipython",
    "version": 3
   },
   "file_extension": ".py",
   "mimetype": "text/x-python",
   "name": "python",
   "nbconvert_exporter": "python",
   "pygments_lexer": "ipython3",
   "version": "3.7.4"
  }
 },
 "nbformat": 4,
 "nbformat_minor": 1
}
