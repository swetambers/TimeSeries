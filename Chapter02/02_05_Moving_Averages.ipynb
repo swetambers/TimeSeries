{
 "cells": [
  {
   "cell_type": "markdown",
   "metadata": {},
   "source": [
    "## <b>Moving averages (MA) \n",
    "\n",
    "MA at a time index t estimates the average trend cycle component Ft and is calculated by taking average of over the time period of t ± k where k is the range of the MA. Taking moving averages have an effect of smoothing the original time series by eliminating random noise. Commonly the total number of observations m = 2k + 1 is used to describe the moving average as m-order MA. \n",
    "\n",
    "Computation of moving averages and their application in smoothing time series"
   ]
  },
  {
   "cell_type": "code",
   "execution_count": 1,
   "metadata": {},
   "outputs": [],
   "source": [
    "import os\n",
    "import pandas as pd\n",
    "%matplotlib inline\n",
    "from matplotlib import pyplot as plt"
   ]
  },
  {
   "cell_type": "code",
   "execution_count": 2,
   "metadata": {},
   "outputs": [],
   "source": [
    "# Load the dataset into a pandas.DataFrame\n",
    "ibm_df = pd.read_csv(\n",
    "    '../Data Files/ibm-common-stock-closing-prices.csv', parse_dates=['Date'], index_col=['Date']\n",
    ")"
   ]
  },
  {
   "cell_type": "code",
   "execution_count": 3,
   "metadata": {},
   "outputs": [
    {
     "name": "stdout",
     "output_type": "stream",
     "text": [
      "Shape of the dataframe: (1009, 1)\n"
     ]
    }
   ],
   "source": [
    "# Let's find out the shape of the DataFrame\n",
    "print('Shape of the dataframe:', ibm_df.shape)"
   ]
  },
  {
   "cell_type": "code",
   "execution_count": 4,
   "metadata": {},
   "outputs": [
    {
     "data": {
      "text/html": [
       "<div>\n",
       "<style scoped>\n",
       "    .dataframe tbody tr th:only-of-type {\n",
       "        vertical-align: middle;\n",
       "    }\n",
       "\n",
       "    .dataframe tbody tr th {\n",
       "        vertical-align: top;\n",
       "    }\n",
       "\n",
       "    .dataframe thead th {\n",
       "        text-align: right;\n",
       "    }\n",
       "</style>\n",
       "<table border=\"1\" class=\"dataframe\">\n",
       "  <thead>\n",
       "    <tr style=\"text-align: right;\">\n",
       "      <th></th>\n",
       "      <th>IBM common stock closing prices</th>\n",
       "    </tr>\n",
       "    <tr>\n",
       "      <th>Date</th>\n",
       "      <th></th>\n",
       "    </tr>\n",
       "  </thead>\n",
       "  <tbody>\n",
       "    <tr>\n",
       "      <th>1962-01-02</th>\n",
       "      <td>572.00</td>\n",
       "    </tr>\n",
       "    <tr>\n",
       "      <th>1962-01-03</th>\n",
       "      <td>577.00</td>\n",
       "    </tr>\n",
       "    <tr>\n",
       "      <th>1962-01-04</th>\n",
       "      <td>571.25</td>\n",
       "    </tr>\n",
       "    <tr>\n",
       "      <th>1962-01-05</th>\n",
       "      <td>560.00</td>\n",
       "    </tr>\n",
       "    <tr>\n",
       "      <th>1962-01-08</th>\n",
       "      <td>549.50</td>\n",
       "    </tr>\n",
       "  </tbody>\n",
       "</table>\n",
       "</div>"
      ],
      "text/plain": [
       "            IBM common stock closing prices\n",
       "Date                                       \n",
       "1962-01-02                           572.00\n",
       "1962-01-03                           577.00\n",
       "1962-01-04                           571.25\n",
       "1962-01-05                           560.00\n",
       "1962-01-08                           549.50"
      ]
     },
     "execution_count": 4,
     "metadata": {},
     "output_type": "execute_result"
    }
   ],
   "source": [
    "# Let's see the top 10 rows\n",
    "ibm_df.head(5)"
   ]
  },
  {
   "cell_type": "code",
   "execution_count": 5,
   "metadata": {},
   "outputs": [
    {
     "data": {
      "text/html": [
       "<div>\n",
       "<style scoped>\n",
       "    .dataframe tbody tr th:only-of-type {\n",
       "        vertical-align: middle;\n",
       "    }\n",
       "\n",
       "    .dataframe tbody tr th {\n",
       "        vertical-align: top;\n",
       "    }\n",
       "\n",
       "    .dataframe thead th {\n",
       "        text-align: right;\n",
       "    }\n",
       "</style>\n",
       "<table border=\"1\" class=\"dataframe\">\n",
       "  <thead>\n",
       "    <tr style=\"text-align: right;\">\n",
       "      <th></th>\n",
       "      <th>Close_Price</th>\n",
       "    </tr>\n",
       "    <tr>\n",
       "      <th>Date</th>\n",
       "      <th></th>\n",
       "    </tr>\n",
       "  </thead>\n",
       "  <tbody>\n",
       "    <tr>\n",
       "      <th>1962-01-02</th>\n",
       "      <td>572.00</td>\n",
       "    </tr>\n",
       "    <tr>\n",
       "      <th>1962-01-03</th>\n",
       "      <td>577.00</td>\n",
       "    </tr>\n",
       "    <tr>\n",
       "      <th>1962-01-04</th>\n",
       "      <td>571.25</td>\n",
       "    </tr>\n",
       "    <tr>\n",
       "      <th>1962-01-05</th>\n",
       "      <td>560.00</td>\n",
       "    </tr>\n",
       "    <tr>\n",
       "      <th>1962-01-08</th>\n",
       "      <td>549.50</td>\n",
       "    </tr>\n",
       "  </tbody>\n",
       "</table>\n",
       "</div>"
      ],
      "text/plain": [
       "            Close_Price\n",
       "Date                   \n",
       "1962-01-02       572.00\n",
       "1962-01-03       577.00\n",
       "1962-01-04       571.25\n",
       "1962-01-05       560.00\n",
       "1962-01-08       549.50"
      ]
     },
     "execution_count": 5,
     "metadata": {},
     "output_type": "execute_result"
    }
   ],
   "source": [
    "# Rename the second column\n",
    "ibm_df.rename(columns={\n",
    "    'IBM common stock closing prices': 'Close_Price'}, inplace=True\n",
    ")\n",
    "ibm_df.head()"
   ]
  },
  {
   "cell_type": "code",
   "execution_count": 6,
   "metadata": {},
   "outputs": [
    {
     "name": "stdout",
     "output_type": "stream",
     "text": [
      "No. of rows with missing values: 0\n"
     ]
    }
   ],
   "source": [
    "# remove missing values \n",
    "missing = (pd.isnull(ibm_df.index)) & (pd.isnull(ibm_df['Close_Price']))\n",
    "print('No. of rows with missing values:', missing.sum())\n",
    "ibm_df = ibm_df.loc[~missing, :]"
   ]
  },
  {
   "cell_type": "code",
   "execution_count": 7,
   "metadata": {},
   "outputs": [],
   "source": [
    "# To illustrate the idea of moving average we compute a weekly moving average taking\n",
    "# a window of 5 days instead of 7 days because trading happens only during the weekdays.\n",
    "ibm_df['5-Day Moving Avg'] = ibm_df['Close_Price'].rolling(window=5).mean()"
   ]
  },
  {
   "cell_type": "code",
   "execution_count": 8,
   "metadata": {},
   "outputs": [
    {
     "data": {
      "text/html": [
       "<div>\n",
       "<style scoped>\n",
       "    .dataframe tbody tr th:only-of-type {\n",
       "        vertical-align: middle;\n",
       "    }\n",
       "\n",
       "    .dataframe tbody tr th {\n",
       "        vertical-align: top;\n",
       "    }\n",
       "\n",
       "    .dataframe thead th {\n",
       "        text-align: right;\n",
       "    }\n",
       "</style>\n",
       "<table border=\"1\" class=\"dataframe\">\n",
       "  <thead>\n",
       "    <tr style=\"text-align: right;\">\n",
       "      <th></th>\n",
       "      <th>Close_Price</th>\n",
       "      <th>5-Day Moving Avg</th>\n",
       "    </tr>\n",
       "    <tr>\n",
       "      <th>Date</th>\n",
       "      <th></th>\n",
       "      <th></th>\n",
       "    </tr>\n",
       "  </thead>\n",
       "  <tbody>\n",
       "    <tr>\n",
       "      <th>1962-01-02</th>\n",
       "      <td>572.00</td>\n",
       "      <td>NaN</td>\n",
       "    </tr>\n",
       "    <tr>\n",
       "      <th>1962-01-03</th>\n",
       "      <td>577.00</td>\n",
       "      <td>NaN</td>\n",
       "    </tr>\n",
       "    <tr>\n",
       "      <th>1962-01-04</th>\n",
       "      <td>571.25</td>\n",
       "      <td>NaN</td>\n",
       "    </tr>\n",
       "    <tr>\n",
       "      <th>1962-01-05</th>\n",
       "      <td>560.00</td>\n",
       "      <td>NaN</td>\n",
       "    </tr>\n",
       "    <tr>\n",
       "      <th>1962-01-08</th>\n",
       "      <td>549.50</td>\n",
       "      <td>565.95</td>\n",
       "    </tr>\n",
       "  </tbody>\n",
       "</table>\n",
       "</div>"
      ],
      "text/plain": [
       "            Close_Price  5-Day Moving Avg\n",
       "Date                                     \n",
       "1962-01-02       572.00               NaN\n",
       "1962-01-03       577.00               NaN\n",
       "1962-01-04       571.25               NaN\n",
       "1962-01-05       560.00               NaN\n",
       "1962-01-08       549.50            565.95"
      ]
     },
     "execution_count": 8,
     "metadata": {},
     "output_type": "execute_result"
    }
   ],
   "source": [
    "ibm_df.head(5)"
   ]
  },
  {
   "cell_type": "code",
   "execution_count": 9,
   "metadata": {},
   "outputs": [
    {
     "data": {
      "image/png": "[encoded data removed]",
      "text/plain": [
       "<Figure size 396x396 with 2 Axes>"
      ]
     },
     "metadata": {
      "needs_background": "light"
     },
     "output_type": "display_data"
    }
   ],
   "source": [
    "fig = plt.figure(figsize=(5.5, 5.5))\n",
    "ax = fig.add_subplot(2,1,1)\n",
    "ibm_df['Close_Price'].plot(ax=ax, color='b')\n",
    "ax.set_title('IBM Common Stock Close Prices during 1962-1965')\n",
    "ax = fig.add_subplot(2,1,2)\n",
    "ibm_df['5-Day Moving Avg'].plot(ax=ax, color='r')\n",
    "ax.set_title('5-day Moving Average')\n",
    "plt.tight_layout(pad=0.4, w_pad=0.5, h_pad=2.0)"
   ]
  },
  {
   "cell_type": "markdown",
   "metadata": {},
   "source": [
    "## </b> Higher order MA\n",
    "The MA with an odd order m = 2 x 2 + 1 = 5 and is symmetric with equal number of observations on both sides of the time index t at which the MA is being calculated. However, it is possible to have an asymmetric MA of even order m = 2k. The asymmetry of an even order moving average can be eliminated by taking a second moving average of an even order."
   ]
  },
  {
   "cell_type": "code",
   "execution_count": 10,
   "metadata": {},
   "outputs": [],
   "source": [
    "# Calculate the moving averages using 'rolling' and 'mean' functions\n",
    "MA2 = ibm_df['Close_Price'].rolling(window=2).mean()\n",
    "TwoXMA2 = MA2.rolling(window=2).mean()\n",
    "\n",
    "MA4 = ibm_df['Close_Price'].rolling(window=4).mean()\n",
    "TwoXMA4 = MA4.rolling(window=2).mean()\n",
    "\n",
    "MA3 = ibm_df['Close_Price'].rolling(window=3).mean()\n",
    "ThreeXMA3 = MA3.rolling(window=3).mean()"
   ]
  },
  {
   "cell_type": "code",
   "execution_count": 11,
   "metadata": {},
   "outputs": [],
   "source": [
    "# Let's remove NaN from the above variables\n",
    "MA2 = MA2.loc[~pd.isnull(MA2)]\n",
    "TwoXMA2 = TwoXMA2.loc[~pd.isnull(TwoXMA2)]\n",
    "\n",
    "MA4 = MA4.loc[~pd.isnull(MA4)]\n",
    "TwoXMA4 = TwoXMA4.loc[~pd.isnull(TwoXMA4)]\n",
    "\n",
    "MA3 = MA3.loc[~pd.isnull(MA3)]\n",
    "ThreeXMA3 = TwoXMA4.loc[~pd.isnull(ThreeXMA3)]"
   ]
  },
  {
   "cell_type": "code",
   "execution_count": 12,
   "metadata": {},
   "outputs": [
    {
     "name": "stdout",
     "output_type": "stream",
     "text": [
      "Date\n",
      "1962-01-03    574.500\n",
      "1962-01-04    574.125\n",
      "1962-01-05    565.625\n",
      "Name: Close_Price, dtype: float64\n",
      "\n",
      "\n",
      "Date\n",
      "1962-01-04    574.3125\n",
      "1962-01-05    569.8750\n",
      "1962-01-08    560.1875\n",
      "Name: Close_Price, dtype: float64\n",
      "\n",
      "\n",
      "\n",
      "Date\n",
      "1962-01-05    570.0625\n",
      "1962-01-08    564.4375\n",
      "1962-01-09    559.1875\n",
      "Name: Close_Price, dtype: float64\n",
      "\n",
      "\n",
      "Date\n",
      "1962-01-08    567.25000\n",
      "1962-01-09    561.81250\n",
      "1962-01-10    557.40625\n",
      "Name: Close_Price, dtype: float64\n",
      "\n",
      "\n",
      "\n",
      "Date\n",
      "1962-01-04    573.416667\n",
      "1962-01-05    569.416667\n",
      "1962-01-08    560.250000\n",
      "Name: Close_Price, dtype: float64\n",
      "\n",
      "\n",
      "Date\n",
      "1962-01-08    567.25000\n",
      "1962-01-09    561.81250\n",
      "1962-01-10    557.40625\n",
      "Name: Close_Price, dtype: float64\n"
     ]
    }
   ],
   "source": [
    "\n",
    "print(MA2.head(3))\n",
    "print(\"\\n\")\n",
    "print(TwoXMA2.head(3))\n",
    "print(\"\\n\\n\")\n",
    "\n",
    "print(MA4.head(3))\n",
    "print(\"\\n\")\n",
    "print(TwoXMA4.head(3))\n",
    "print(\"\\n\\n\")\n",
    "\n",
    "print(MA3.head(3))\n",
    "print(\"\\n\")\n",
    "print(ThreeXMA3.head(3))"
   ]
  },
  {
   "cell_type": "code",
   "execution_count": 13,
   "metadata": {},
   "outputs": [
    {
     "data": {
      "text/plain": [
       "Text(0.5,1,'3 day MA & 3X 3day MA')"
      ]
     },
     "execution_count": 13,
     "metadata": {},
     "output_type": "execute_result"
    },
    {
     "data": {
      "image/png": "[encoded data removed]",
      "text/plain": [
       "<Figure size 396x396 with 3 Axes>"
      ]
     },
     "metadata": {
      "needs_background": "light"
     },
     "output_type": "display_data"
    }
   ],
   "source": [
    "f, axarr = plt.subplots(3, sharex=True)\n",
    "f.set_size_inches(5.5, 5.5)\n",
    "\n",
    "ibm_df['Close_Price'][:45].plot(color='b', linestyle = '-', ax=axarr[0])\n",
    "MA2[:45].plot(color='r', linestyle = '-', ax=axarr[0])\n",
    "TwoXMA2[:45].plot(color='r', linestyle = '--', ax=axarr[0])\n",
    "axarr[0].set_title('2 day MA & 2X2 day MA')\n",
    "\n",
    "ibm_df['Close_Price'][:45].plot(color='b', linestyle = '-', ax=axarr[1])\n",
    "MA4[:45].plot(color='g', linestyle = '-', ax=axarr[1])\n",
    "TwoXMA4[:45].plot(color='g', linestyle = '--', ax=axarr[1])\n",
    "axarr[1].set_title('4 day MA & 2X4 day MA')\n",
    "\n",
    "ibm_df['Close_Price'][:45].plot(color='b', linestyle = '-', ax=axarr[2])\n",
    "MA3[:45].plot(color='k', linestyle = '-', ax=axarr[2])\n",
    "ThreeXMA3[:45].plot(color='k', linestyle = '--', ax=axarr[2])\n",
    "axarr[2].set_title('3 day MA & 3X 3day MA')"
   ]
  }
 ],
 "metadata": {
  "anaconda-cloud": {},
  "kernelspec": {
   "display_name": "Python 3",
   "language": "python",
   "name": "python3"
  },
  "language_info": {
   "codemirror_mode": {
    "name": "ipython",
    "version": 3
   },
   "file_extension": ".py",
   "mimetype": "text/x-python",
   "name": "python",
   "nbconvert_exporter": "python",
   "pygments_lexer": "ipython3",
   "version": "3.7.4"
  }
 },
 "nbformat": 4,
 "nbformat_minor": 1
}
