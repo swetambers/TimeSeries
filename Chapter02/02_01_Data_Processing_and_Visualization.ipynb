{
 "cells": [
  {
   "cell_type": "markdown",
   "metadata": {},
   "source": [
    "## <b>Understanding time series</b>\n",
    "\n",
    "The methodology for time series analysis are:\n",
    "- Advanced processing and visualization of time series data\n",
    "- Statistical hypothesis testing to verify stationarity of a time series\n",
    "- Time series decomposition for adjusting trends and seasonality"
   ]
  },
  {
   "cell_type": "markdown",
   "metadata": {},
   "source": [
    "### <b>Advanced processing and visualization of time series data</b>"
   ]
  },
  {
   "cell_type": "markdown",
   "metadata": {},
   "source": [
    "<b>Resampling</b> and <b>group-by</b> operations divide the original time series in non- overlapping chunks to find the aggregates.\n",
    "Original time series needs: \n",
    "- Transformed into aggregate statistics. This would need resampling the observations over periods that are longer than the granular time indices in the original data.\n",
    "\n",
    "- Computing aggregates over similar segments in the data.\n",
    "\n",
    "- Continuous or running aggregates of the time series are required for analysis. The technique of computing aggregates over windows of successive time periods gives moving or rolling aggregates. \n",
    "\n",
    "<br>\n",
    "\n",
    "\n",
    "The techniques are demonstrated with examples in the following three sub sections:\n",
    "- Resampling time series data\n",
    "- Performing group-by\n",
    "- Calculating moving statistics"
   ]
  },
  {
   "cell_type": "markdown",
   "metadata": {},
   "source": [
    "## Resampling time series data"
   ]
  },
  {
   "cell_type": "code",
   "execution_count": 1,
   "metadata": {},
   "outputs": [],
   "source": [
    "import os\n",
    "import pandas as pd\n",
    "import numpy as np\n",
    "%matplotlib inline\n",
    "from matplotlib import pyplot as plt"
   ]
  },
  {
   "cell_type": "code",
   "execution_count": 2,
   "metadata": {},
   "outputs": [],
   "source": [
    "df = pd.read_csv('../Data Files/chemical-concentration-readings.csv')"
   ]
  },
  {
   "cell_type": "code",
   "execution_count": 3,
   "metadata": {},
   "outputs": [
    {
     "name": "stdout",
     "output_type": "stream",
     "text": [
      "Shape of the dataset: (197, 2)\n"
     ]
    }
   ],
   "source": [
    "# Let's see the shape of the dataset\n",
    "print('Shape of the dataset:', df.shape)"
   ]
  },
  {
   "cell_type": "code",
   "execution_count": 4,
   "metadata": {},
   "outputs": [
    {
     "data": {
      "text/html": [
       "<div>\n",
       "<style scoped>\n",
       "    .dataframe tbody tr th:only-of-type {\n",
       "        vertical-align: middle;\n",
       "    }\n",
       "\n",
       "    .dataframe tbody tr th {\n",
       "        vertical-align: top;\n",
       "    }\n",
       "\n",
       "    .dataframe thead th {\n",
       "        text-align: right;\n",
       "    }\n",
       "</style>\n",
       "<table border=\"1\" class=\"dataframe\">\n",
       "  <thead>\n",
       "    <tr style=\"text-align: right;\">\n",
       "      <th></th>\n",
       "      <th>Timestamp</th>\n",
       "      <th>Chemical conc.</th>\n",
       "    </tr>\n",
       "  </thead>\n",
       "  <tbody>\n",
       "    <tr>\n",
       "      <th>0</th>\n",
       "      <td>1975-01-01 00:00:00</td>\n",
       "      <td>17.0</td>\n",
       "    </tr>\n",
       "    <tr>\n",
       "      <th>1</th>\n",
       "      <td>1975-01-01 02:00:00</td>\n",
       "      <td>16.6</td>\n",
       "    </tr>\n",
       "    <tr>\n",
       "      <th>2</th>\n",
       "      <td>1975-01-01 04:00:00</td>\n",
       "      <td>16.3</td>\n",
       "    </tr>\n",
       "    <tr>\n",
       "      <th>3</th>\n",
       "      <td>1975-01-01 06:00:00</td>\n",
       "      <td>16.1</td>\n",
       "    </tr>\n",
       "    <tr>\n",
       "      <th>4</th>\n",
       "      <td>1975-01-01 08:00:00</td>\n",
       "      <td>17.1</td>\n",
       "    </tr>\n",
       "  </tbody>\n",
       "</table>\n",
       "</div>"
      ],
      "text/plain": [
       "             Timestamp  Chemical conc.\n",
       "0  1975-01-01 00:00:00            17.0\n",
       "1  1975-01-01 02:00:00            16.6\n",
       "2  1975-01-01 04:00:00            16.3\n",
       "3  1975-01-01 06:00:00            16.1\n",
       "4  1975-01-01 08:00:00            17.1"
      ]
     },
     "execution_count": 4,
     "metadata": {},
     "output_type": "execute_result"
    }
   ],
   "source": [
    "# Let's see first 5 rows of the DataFrame\n",
    "df.head(5)"
   ]
  },
  {
   "cell_type": "code",
   "execution_count": 5,
   "metadata": {},
   "outputs": [
    {
     "data": {
      "text/html": [
       "<div>\n",
       "<style scoped>\n",
       "    .dataframe tbody tr th:only-of-type {\n",
       "        vertical-align: middle;\n",
       "    }\n",
       "\n",
       "    .dataframe tbody tr th {\n",
       "        vertical-align: top;\n",
       "    }\n",
       "\n",
       "    .dataframe thead th {\n",
       "        text-align: right;\n",
       "    }\n",
       "</style>\n",
       "<table border=\"1\" class=\"dataframe\">\n",
       "  <thead>\n",
       "    <tr style=\"text-align: right;\">\n",
       "      <th></th>\n",
       "      <th>Timestamp</th>\n",
       "      <th>Chemical conc.</th>\n",
       "    </tr>\n",
       "    <tr>\n",
       "      <th>Timestamp</th>\n",
       "      <th></th>\n",
       "      <th></th>\n",
       "    </tr>\n",
       "  </thead>\n",
       "  <tbody>\n",
       "    <tr>\n",
       "      <th>1975-01-01 00:00:00</th>\n",
       "      <td>1975-01-01 00:00:00</td>\n",
       "      <td>17.0</td>\n",
       "    </tr>\n",
       "    <tr>\n",
       "      <th>1975-01-01 02:00:00</th>\n",
       "      <td>1975-01-01 02:00:00</td>\n",
       "      <td>16.6</td>\n",
       "    </tr>\n",
       "    <tr>\n",
       "      <th>1975-01-01 04:00:00</th>\n",
       "      <td>1975-01-01 04:00:00</td>\n",
       "      <td>16.3</td>\n",
       "    </tr>\n",
       "    <tr>\n",
       "      <th>1975-01-01 06:00:00</th>\n",
       "      <td>1975-01-01 06:00:00</td>\n",
       "      <td>16.1</td>\n",
       "    </tr>\n",
       "    <tr>\n",
       "      <th>1975-01-01 08:00:00</th>\n",
       "      <td>1975-01-01 08:00:00</td>\n",
       "      <td>17.1</td>\n",
       "    </tr>\n",
       "    <tr>\n",
       "      <th>1975-01-01 10:00:00</th>\n",
       "      <td>1975-01-01 10:00:00</td>\n",
       "      <td>16.9</td>\n",
       "    </tr>\n",
       "    <tr>\n",
       "      <th>1975-01-01 12:00:00</th>\n",
       "      <td>1975-01-01 12:00:00</td>\n",
       "      <td>16.8</td>\n",
       "    </tr>\n",
       "    <tr>\n",
       "      <th>1975-01-01 14:00:00</th>\n",
       "      <td>1975-01-01 14:00:00</td>\n",
       "      <td>17.4</td>\n",
       "    </tr>\n",
       "    <tr>\n",
       "      <th>1975-01-01 16:00:00</th>\n",
       "      <td>1975-01-01 16:00:00</td>\n",
       "      <td>17.1</td>\n",
       "    </tr>\n",
       "    <tr>\n",
       "      <th>1975-01-01 18:00:00</th>\n",
       "      <td>1975-01-01 18:00:00</td>\n",
       "      <td>17.0</td>\n",
       "    </tr>\n",
       "  </tbody>\n",
       "</table>\n",
       "</div>"
      ],
      "text/plain": [
       "                              Timestamp  Chemical conc.\n",
       "Timestamp                                              \n",
       "1975-01-01 00:00:00 1975-01-01 00:00:00            17.0\n",
       "1975-01-01 02:00:00 1975-01-01 02:00:00            16.6\n",
       "1975-01-01 04:00:00 1975-01-01 04:00:00            16.3\n",
       "1975-01-01 06:00:00 1975-01-01 06:00:00            16.1\n",
       "1975-01-01 08:00:00 1975-01-01 08:00:00            17.1\n",
       "1975-01-01 10:00:00 1975-01-01 10:00:00            16.9\n",
       "1975-01-01 12:00:00 1975-01-01 12:00:00            16.8\n",
       "1975-01-01 14:00:00 1975-01-01 14:00:00            17.4\n",
       "1975-01-01 16:00:00 1975-01-01 16:00:00            17.1\n",
       "1975-01-01 18:00:00 1975-01-01 18:00:00            17.0"
      ]
     },
     "execution_count": 5,
     "metadata": {},
     "output_type": "execute_result"
    }
   ],
   "source": [
    "# Parse the timestamp to datetime row index of the DataFrame\n",
    "df = df.assign(\n",
    "    Timestamp = pd.to_datetime(df.Timestamp, format='%Y-%m-%d %H:%M:%S')\n",
    ")\n",
    "df.index = df.Timestamp\n",
    "df.head(10)"
   ]
  },
  {
   "cell_type": "code",
   "execution_count": 6,
   "metadata": {},
   "outputs": [],
   "source": [
    "# Resample and compute daily mean\n",
    "daily = df['Chemical conc.'].resample('D')"
   ]
  },
  {
   "cell_type": "code",
   "execution_count": 7,
   "metadata": {},
   "outputs": [
    {
     "data": {
      "text/plain": [
       "<pandas.core.resample.DatetimeIndexResampler object at 0x118a95490>"
      ]
     },
     "execution_count": 7,
     "metadata": {},
     "output_type": "execute_result"
    }
   ],
   "source": [
    "daily"
   ]
  },
  {
   "cell_type": "code",
   "execution_count": 8,
   "metadata": {},
   "outputs": [],
   "source": [
    "daily_mean = daily.mean()"
   ]
  },
  {
   "cell_type": "code",
   "execution_count": 9,
   "metadata": {},
   "outputs": [
    {
     "data": {
      "text/plain": [
       "Timestamp\n",
       "1975-01-01    16.866667\n",
       "1975-01-02    17.258333\n",
       "1975-01-03    17.458333\n",
       "1975-01-04    17.416667\n",
       "1975-01-05    17.033333\n",
       "Freq: D, Name: Chemical conc., dtype: float64"
      ]
     },
     "execution_count": 9,
     "metadata": {},
     "output_type": "execute_result"
    }
   ],
   "source": [
    "daily_mean.head(5)"
   ]
  },
  {
   "cell_type": "code",
   "execution_count": 10,
   "metadata": {},
   "outputs": [
    {
     "data": {
      "text/plain": [
       "Text(0,0.5,'Chemical concentration')"
      ]
     },
     "execution_count": 10,
     "metadata": {},
     "output_type": "execute_result"
    },
    {
     "data": {
      "image/png": "[encoded data removed]",
      "text/plain": [
       "<Figure size 396x396 with 1 Axes>"
      ]
     },
     "metadata": {
      "needs_background": "light"
     },
     "output_type": "display_data"
    }
   ],
   "source": [
    "# Plot original time series and daily mean\n",
    "fig = plt.figure(figsize=(5.5, 5.5))\n",
    "ax = fig.add_subplot(1,1,1)\n",
    "\n",
    "df['Chemical conc.'].plot(ax=ax, color='b')\n",
    "daily_mean.plot(ax=ax, color='r')\n",
    "\n",
    "ax.set_title('Bi-hourly reading (blue) & Daily Mean (red)')\n",
    "ax.set_xlabel('Days in Jan 1975')\n",
    "ax.set_ylabel('Chemical concentration')"
   ]
  },
  {
   "cell_type": "markdown",
   "metadata": {},
   "source": [
    "## Performing group-by period"
   ]
  },
  {
   "cell_type": "code",
   "execution_count": 11,
   "metadata": {},
   "outputs": [],
   "source": [
    "# Load the DataFrame and re-index the row to datetime64 ../Data Files/\n",
    "df = pd.read_csv(\n",
    "    '../Data Files//mean-daily-temperature-fisher-river.csv',\n",
    "    parse_dates = ['Date']\n",
    ")"
   ]
  },
  {
   "cell_type": "code",
   "execution_count": 12,
   "metadata": {},
   "outputs": [],
   "source": [
    "df.index = df['Date'].map(lambda d: pd.to_datetime(d, format = '%Y-%m-%d'))"
   ]
  },
  {
   "cell_type": "code",
   "execution_count": 13,
   "metadata": {},
   "outputs": [
    {
     "data": {
      "text/html": [
       "<div>\n",
       "<style scoped>\n",
       "    .dataframe tbody tr th:only-of-type {\n",
       "        vertical-align: middle;\n",
       "    }\n",
       "\n",
       "    .dataframe tbody tr th {\n",
       "        vertical-align: top;\n",
       "    }\n",
       "\n",
       "    .dataframe thead th {\n",
       "        text-align: right;\n",
       "    }\n",
       "</style>\n",
       "<table border=\"1\" class=\"dataframe\">\n",
       "  <thead>\n",
       "    <tr style=\"text-align: right;\">\n",
       "      <th></th>\n",
       "      <th>Date</th>\n",
       "      <th>Mean temparature</th>\n",
       "    </tr>\n",
       "    <tr>\n",
       "      <th>Date</th>\n",
       "      <th></th>\n",
       "      <th></th>\n",
       "    </tr>\n",
       "  </thead>\n",
       "  <tbody>\n",
       "    <tr>\n",
       "      <th>1988-01-01</th>\n",
       "      <td>1988-01-01</td>\n",
       "      <td>-23.0</td>\n",
       "    </tr>\n",
       "    <tr>\n",
       "      <th>1988-01-02</th>\n",
       "      <td>1988-01-02</td>\n",
       "      <td>-20.5</td>\n",
       "    </tr>\n",
       "    <tr>\n",
       "      <th>1988-01-03</th>\n",
       "      <td>1988-01-03</td>\n",
       "      <td>-22.0</td>\n",
       "    </tr>\n",
       "    <tr>\n",
       "      <th>1988-01-04</th>\n",
       "      <td>1988-01-04</td>\n",
       "      <td>-30.5</td>\n",
       "    </tr>\n",
       "    <tr>\n",
       "      <th>1988-01-05</th>\n",
       "      <td>1988-01-05</td>\n",
       "      <td>-31.0</td>\n",
       "    </tr>\n",
       "  </tbody>\n",
       "</table>\n",
       "</div>"
      ],
      "text/plain": [
       "                 Date  Mean temparature\n",
       "Date                                   \n",
       "1988-01-01 1988-01-01             -23.0\n",
       "1988-01-02 1988-01-02             -20.5\n",
       "1988-01-03 1988-01-03             -22.0\n",
       "1988-01-04 1988-01-04             -30.5\n",
       "1988-01-05 1988-01-05             -31.0"
      ]
     },
     "execution_count": 13,
     "metadata": {},
     "output_type": "execute_result"
    }
   ],
   "source": [
    "# Let's see first 5 rows\n",
    "df.head(5)"
   ]
  },
  {
   "cell_type": "code",
   "execution_count": 14,
   "metadata": {},
   "outputs": [
    {
     "name": "stdout",
     "output_type": "stream",
     "text": [
      "Shape of dataframe: (1461, 2)\n"
     ]
    }
   ],
   "source": [
    "# Display shape of the DataFrame\n",
    "print('Shape of dataframe:', df.shape)"
   ]
  },
  {
   "cell_type": "code",
   "execution_count": 15,
   "metadata": {},
   "outputs": [
    {
     "data": {
      "text/plain": [
       "Text(0.5,1,'Mean daily temparature')"
      ]
     },
     "execution_count": 15,
     "metadata": {},
     "output_type": "execute_result"
    },
    {
     "data": {
      "image/png": "[encoded data removed]",
      "text/plain": [
       "<Figure size 396x396 with 1 Axes>"
      ]
     },
     "metadata": {
      "needs_background": "light"
     },
     "output_type": "display_data"
    }
   ],
   "source": [
    "# Plot original time series on daily mean temparature\n",
    "fig = plt.figure(figsize=(5.5, 5.5))\n",
    "ax = fig.add_subplot(1,1,1)\n",
    "\n",
    "df['Mean temparature'].plot(ax=ax, color='b')\n",
    "\n",
    "ax.set_title('Mean daily temparature')"
   ]
  },
  {
   "cell_type": "code",
   "execution_count": 16,
   "metadata": {},
   "outputs": [
    {
     "data": {
      "text/html": [
       "<div>\n",
       "<style scoped>\n",
       "    .dataframe tbody tr th:only-of-type {\n",
       "        vertical-align: middle;\n",
       "    }\n",
       "\n",
       "    .dataframe tbody tr th {\n",
       "        vertical-align: top;\n",
       "    }\n",
       "\n",
       "    .dataframe thead th {\n",
       "        text-align: right;\n",
       "    }\n",
       "</style>\n",
       "<table border=\"1\" class=\"dataframe\">\n",
       "  <thead>\n",
       "    <tr style=\"text-align: right;\">\n",
       "      <th></th>\n",
       "      <th>Date</th>\n",
       "      <th>Mean temparature</th>\n",
       "      <th>Month_Year</th>\n",
       "    </tr>\n",
       "    <tr>\n",
       "      <th>Date</th>\n",
       "      <th></th>\n",
       "      <th></th>\n",
       "      <th></th>\n",
       "    </tr>\n",
       "  </thead>\n",
       "  <tbody>\n",
       "    <tr>\n",
       "      <th>1988-01-01</th>\n",
       "      <td>1988-01-01</td>\n",
       "      <td>-23.0</td>\n",
       "      <td>01-1988</td>\n",
       "    </tr>\n",
       "    <tr>\n",
       "      <th>1988-01-02</th>\n",
       "      <td>1988-01-02</td>\n",
       "      <td>-20.5</td>\n",
       "      <td>01-1988</td>\n",
       "    </tr>\n",
       "    <tr>\n",
       "      <th>1988-01-03</th>\n",
       "      <td>1988-01-03</td>\n",
       "      <td>-22.0</td>\n",
       "      <td>01-1988</td>\n",
       "    </tr>\n",
       "    <tr>\n",
       "      <th>1988-01-04</th>\n",
       "      <td>1988-01-04</td>\n",
       "      <td>-30.5</td>\n",
       "      <td>01-1988</td>\n",
       "    </tr>\n",
       "    <tr>\n",
       "      <th>1988-01-05</th>\n",
       "      <td>1988-01-05</td>\n",
       "      <td>-31.0</td>\n",
       "      <td>01-1988</td>\n",
       "    </tr>\n",
       "  </tbody>\n",
       "</table>\n",
       "</div>"
      ],
      "text/plain": [
       "                 Date  Mean temparature Month_Year\n",
       "Date                                              \n",
       "1988-01-01 1988-01-01             -23.0    01-1988\n",
       "1988-01-02 1988-01-02             -20.5    01-1988\n",
       "1988-01-03 1988-01-03             -22.0    01-1988\n",
       "1988-01-04 1988-01-04             -30.5    01-1988\n",
       "1988-01-05 1988-01-05             -31.0    01-1988"
      ]
     },
     "execution_count": 16,
     "metadata": {},
     "output_type": "execute_result"
    }
   ],
   "source": [
    "# We need to groupby the data for every month \n",
    "# and find aggregate statistics\n",
    "# Let's start by adding a Month_Year column\n",
    "df['Month_Year'] = df.index.map(lambda d: d.strftime('%m-%Y'))\n",
    "\n",
    "df.head(5)"
   ]
  },
  {
   "cell_type": "code",
   "execution_count": 17,
   "metadata": {},
   "outputs": [
    {
     "data": {
      "text/html": [
       "<div>\n",
       "<style scoped>\n",
       "    .dataframe tbody tr th:only-of-type {\n",
       "        vertical-align: middle;\n",
       "    }\n",
       "\n",
       "    .dataframe tbody tr th {\n",
       "        vertical-align: top;\n",
       "    }\n",
       "\n",
       "    .dataframe thead th {\n",
       "        text-align: right;\n",
       "    }\n",
       "</style>\n",
       "<table border=\"1\" class=\"dataframe\">\n",
       "  <thead>\n",
       "    <tr style=\"text-align: right;\">\n",
       "      <th></th>\n",
       "      <th>mean</th>\n",
       "      <th>median</th>\n",
       "      <th>std</th>\n",
       "    </tr>\n",
       "    <tr>\n",
       "      <th>Month_Year</th>\n",
       "      <th></th>\n",
       "      <th></th>\n",
       "      <th></th>\n",
       "    </tr>\n",
       "  </thead>\n",
       "  <tbody>\n",
       "    <tr>\n",
       "      <th>01-1988</th>\n",
       "      <td>-22.137097</td>\n",
       "      <td>-23.0</td>\n",
       "      <td>5.260640</td>\n",
       "    </tr>\n",
       "    <tr>\n",
       "      <th>01-1989</th>\n",
       "      <td>-17.129032</td>\n",
       "      <td>-18.0</td>\n",
       "      <td>8.250725</td>\n",
       "    </tr>\n",
       "    <tr>\n",
       "      <th>01-1990</th>\n",
       "      <td>-15.112903</td>\n",
       "      <td>-12.0</td>\n",
       "      <td>6.606764</td>\n",
       "    </tr>\n",
       "    <tr>\n",
       "      <th>01-1991</th>\n",
       "      <td>-23.038710</td>\n",
       "      <td>-24.5</td>\n",
       "      <td>7.095570</td>\n",
       "    </tr>\n",
       "    <tr>\n",
       "      <th>02-1988</th>\n",
       "      <td>-19.025862</td>\n",
       "      <td>-19.5</td>\n",
       "      <td>8.598522</td>\n",
       "    </tr>\n",
       "  </tbody>\n",
       "</table>\n",
       "</div>"
      ],
      "text/plain": [
       "                 mean  median       std\n",
       "Month_Year                             \n",
       "01-1988    -22.137097   -23.0  5.260640\n",
       "01-1989    -17.129032   -18.0  8.250725\n",
       "01-1990    -15.112903   -12.0  6.606764\n",
       "01-1991    -23.038710   -24.5  7.095570\n",
       "02-1988    -19.025862   -19.5  8.598522"
      ]
     },
     "execution_count": 17,
     "metadata": {},
     "output_type": "execute_result"
    }
   ],
   "source": [
    "# Calculate month wise statistics\n",
    "monthly_stats = df.groupby(\n",
    "    by='Month_Year'\n",
    ")['Mean temparature'].aggregate(\n",
    "    [np.mean, np.median,np.std]\n",
    ")\n",
    "monthly_stats.head(5)"
   ]
  },
  {
   "cell_type": "code",
   "execution_count": 18,
   "metadata": {},
   "outputs": [
    {
     "data": {
      "text/html": [
       "<div>\n",
       "<style scoped>\n",
       "    .dataframe tbody tr th:only-of-type {\n",
       "        vertical-align: middle;\n",
       "    }\n",
       "\n",
       "    .dataframe tbody tr th {\n",
       "        vertical-align: top;\n",
       "    }\n",
       "\n",
       "    .dataframe thead th {\n",
       "        text-align: right;\n",
       "    }\n",
       "</style>\n",
       "<table border=\"1\" class=\"dataframe\">\n",
       "  <thead>\n",
       "    <tr style=\"text-align: right;\">\n",
       "      <th></th>\n",
       "      <th>Month_Year</th>\n",
       "      <th>mean</th>\n",
       "      <th>median</th>\n",
       "      <th>std</th>\n",
       "    </tr>\n",
       "  </thead>\n",
       "  <tbody>\n",
       "    <tr>\n",
       "      <th>0</th>\n",
       "      <td>01-1988</td>\n",
       "      <td>-22.137097</td>\n",
       "      <td>-23.0</td>\n",
       "      <td>5.260640</td>\n",
       "    </tr>\n",
       "    <tr>\n",
       "      <th>1</th>\n",
       "      <td>01-1989</td>\n",
       "      <td>-17.129032</td>\n",
       "      <td>-18.0</td>\n",
       "      <td>8.250725</td>\n",
       "    </tr>\n",
       "    <tr>\n",
       "      <th>2</th>\n",
       "      <td>01-1990</td>\n",
       "      <td>-15.112903</td>\n",
       "      <td>-12.0</td>\n",
       "      <td>6.606764</td>\n",
       "    </tr>\n",
       "    <tr>\n",
       "      <th>3</th>\n",
       "      <td>01-1991</td>\n",
       "      <td>-23.038710</td>\n",
       "      <td>-24.5</td>\n",
       "      <td>7.095570</td>\n",
       "    </tr>\n",
       "    <tr>\n",
       "      <th>4</th>\n",
       "      <td>02-1988</td>\n",
       "      <td>-19.025862</td>\n",
       "      <td>-19.5</td>\n",
       "      <td>8.598522</td>\n",
       "    </tr>\n",
       "  </tbody>\n",
       "</table>\n",
       "</div>"
      ],
      "text/plain": [
       "  Month_Year       mean  median       std\n",
       "0    01-1988 -22.137097   -23.0  5.260640\n",
       "1    01-1989 -17.129032   -18.0  8.250725\n",
       "2    01-1990 -15.112903   -12.0  6.606764\n",
       "3    01-1991 -23.038710   -24.5  7.095570\n",
       "4    02-1988 -19.025862   -19.5  8.598522"
      ]
     },
     "execution_count": 18,
     "metadata": {},
     "output_type": "execute_result"
    }
   ],
   "source": [
    "monthly_stats.reset_index(inplace=True)\n",
    "monthly_stats.head(5)"
   ]
  },
  {
   "cell_type": "code",
   "execution_count": 19,
   "metadata": {},
   "outputs": [],
   "source": [
    "monthly_stats['Month_Year'] = pd.to_datetime(monthly_stats['Month_Year'], format='%m-%Y')"
   ]
  },
  {
   "cell_type": "code",
   "execution_count": 20,
   "metadata": {},
   "outputs": [
    {
     "data": {
      "text/html": [
       "<div>\n",
       "<style scoped>\n",
       "    .dataframe tbody tr th:only-of-type {\n",
       "        vertical-align: middle;\n",
       "    }\n",
       "\n",
       "    .dataframe tbody tr th {\n",
       "        vertical-align: top;\n",
       "    }\n",
       "\n",
       "    .dataframe thead th {\n",
       "        text-align: right;\n",
       "    }\n",
       "</style>\n",
       "<table border=\"1\" class=\"dataframe\">\n",
       "  <thead>\n",
       "    <tr style=\"text-align: right;\">\n",
       "      <th></th>\n",
       "      <th>Month_Year</th>\n",
       "      <th>mean</th>\n",
       "      <th>median</th>\n",
       "      <th>std</th>\n",
       "      <th>Year</th>\n",
       "      <th>Month</th>\n",
       "    </tr>\n",
       "  </thead>\n",
       "  <tbody>\n",
       "    <tr>\n",
       "      <th>0</th>\n",
       "      <td>1988-01-01</td>\n",
       "      <td>-22.137097</td>\n",
       "      <td>-23.000</td>\n",
       "      <td>5.260640</td>\n",
       "      <td>1988</td>\n",
       "      <td>1</td>\n",
       "    </tr>\n",
       "    <tr>\n",
       "      <th>1</th>\n",
       "      <td>1988-02-01</td>\n",
       "      <td>-19.025862</td>\n",
       "      <td>-19.500</td>\n",
       "      <td>8.598522</td>\n",
       "      <td>1988</td>\n",
       "      <td>2</td>\n",
       "    </tr>\n",
       "    <tr>\n",
       "      <th>2</th>\n",
       "      <td>1988-03-01</td>\n",
       "      <td>-8.258065</td>\n",
       "      <td>-9.250</td>\n",
       "      <td>5.341459</td>\n",
       "      <td>1988</td>\n",
       "      <td>3</td>\n",
       "    </tr>\n",
       "    <tr>\n",
       "      <th>3</th>\n",
       "      <td>1988-04-01</td>\n",
       "      <td>2.641667</td>\n",
       "      <td>1.875</td>\n",
       "      <td>5.057720</td>\n",
       "      <td>1988</td>\n",
       "      <td>4</td>\n",
       "    </tr>\n",
       "    <tr>\n",
       "      <th>4</th>\n",
       "      <td>1988-05-01</td>\n",
       "      <td>11.290323</td>\n",
       "      <td>11.000</td>\n",
       "      <td>6.254364</td>\n",
       "      <td>1988</td>\n",
       "      <td>5</td>\n",
       "    </tr>\n",
       "  </tbody>\n",
       "</table>\n",
       "</div>"
      ],
      "text/plain": [
       "  Month_Year       mean  median       std  Year  Month\n",
       "0 1988-01-01 -22.137097 -23.000  5.260640  1988      1\n",
       "1 1988-02-01 -19.025862 -19.500  8.598522  1988      2\n",
       "2 1988-03-01  -8.258065  -9.250  5.341459  1988      3\n",
       "3 1988-04-01   2.641667   1.875  5.057720  1988      4\n",
       "4 1988-05-01  11.290323  11.000  6.254364  1988      5"
      ]
     },
     "execution_count": 20,
     "metadata": {},
     "output_type": "execute_result"
    }
   ],
   "source": [
    "monthly_stats['Year'] = monthly_stats['Month_Year'].dt.year\n",
    "monthly_stats['Month'] = monthly_stats['Month_Year'].dt.month\n",
    "monthly_stats.sort_values(by=['Year', 'Month'], inplace=True)\n",
    "monthly_stats.reset_index(inplace=True, drop=True)\n",
    "monthly_stats.head(5)"
   ]
  },
  {
   "cell_type": "code",
   "execution_count": 21,
   "metadata": {},
   "outputs": [],
   "source": [
    "#Let's set the Month_Year as the row index\n",
    "monthly_stats.index = monthly_stats['Month_Year']"
   ]
  },
  {
   "cell_type": "code",
   "execution_count": 22,
   "metadata": {},
   "outputs": [
    {
     "data": {
      "text/plain": [
       "Text(0.5,1,'Monthly statistics: Mean (blue) & Std. Dev. (red)')"
      ]
     },
     "execution_count": 22,
     "metadata": {},
     "output_type": "execute_result"
    },
    {
     "data": {
      "image/png": "[encoded data removed]",
      "text/plain": [
       "<Figure size 396x396 with 1 Axes>"
      ]
     },
     "metadata": {
      "needs_background": "light"
     },
     "output_type": "display_data"
    }
   ],
   "source": [
    "#Plot original time series and daily mean\n",
    "fig = plt.figure(figsize=(5.5, 5.5))\n",
    "ax = fig.add_subplot(1,1,1)\n",
    "\n",
    "monthly_stats['mean'].plot(ax=ax, color='b')\n",
    "monthly_stats['std'].plot(ax=ax, color='r')\n",
    "\n",
    "ax.set_title('Monthly statistics: Mean (blue) & Std. Dev. (red)')"
   ]
  },
  {
   "cell_type": "code",
   "execution_count": 23,
   "metadata": {},
   "outputs": [],
   "source": [
    "#Now we will calculate weekly moving average on the original time series of mean daily temparature\n",
    "weekly_moving_average = df['Mean temparature'].rolling(7).mean()"
   ]
  },
  {
   "cell_type": "code",
   "execution_count": 24,
   "metadata": {},
   "outputs": [],
   "source": [
    "#Now we will calculate monthly moving average on the original time series of mean daily temparature\n",
    "monthly_moving_average = df['Mean temparature'].rolling(30).mean()"
   ]
  },
  {
   "cell_type": "code",
   "execution_count": 25,
   "metadata": {},
   "outputs": [],
   "source": [
    "#Let's caluclate the weekly and monthly avergaes with a stride of length 2\n",
    "weekly_moving_average_2stride = df['Mean temparature'].rolling(7).mean()[::2]\n",
    "monthly_moving_average_2stride = df['Mean temparature'].rolling(30).mean()[::2]"
   ]
  },
  {
   "cell_type": "code",
   "execution_count": 26,
   "metadata": {},
   "outputs": [
    {
     "data": {
      "text/plain": [
       "Text(0.5,1,'Monthly moving average with stride 2')"
      ]
     },
     "execution_count": 26,
     "metadata": {},
     "output_type": "execute_result"
    },
    {
     "data": {
      "image/png": "[encoded data removed]",
      "text/plain": [
       "<Figure size 396x360 with 4 Axes>"
      ]
     },
     "metadata": {
      "needs_background": "light"
     },
     "output_type": "display_data"
    }
   ],
   "source": [
    "#Plot original time series and weekly moving average\n",
    "fig, axarr = plt.subplots(4, sharex=True)\n",
    "fig.set_size_inches(5.5, 5,5)\n",
    "\n",
    "df['Mean temparature'].plot(ax=axarr[0], color='b')\n",
    "axarr[0].set_title('Daily mean temparature')\n",
    "\n",
    "weekly_moving_average.plot(ax=axarr[1], color='r')\n",
    "axarr[1].set_title('Weekly moving average')\n",
    "\n",
    "monthly_moving_average.plot(ax=axarr[2], color='g')\n",
    "axarr[2].set_title('Monthly moving average')\n",
    "\n",
    "monthly_moving_average_2stride.plot(ax=axarr[3], color='y')\n",
    "axarr[3].set_title('Monthly moving average with stride 2')"
   ]
  }
 ],
 "metadata": {
  "anaconda-cloud": {},
  "kernelspec": {
   "display_name": "Python 3",
   "language": "python",
   "name": "python3"
  },
  "language_info": {
   "codemirror_mode": {
    "name": "ipython",
    "version": 3
   },
   "file_extension": ".py",
   "mimetype": "text/x-python",
   "name": "python",
   "nbconvert_exporter": "python",
   "pygments_lexer": "ipython3",
   "version": "3.7.4"
  }
 },
 "nbformat": 4,
 "nbformat_minor": 1
}
